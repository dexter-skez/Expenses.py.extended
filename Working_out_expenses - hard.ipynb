{
 "cells": [
  {
   "cell_type": "code",
   "execution_count": 1,
   "metadata": {},
   "outputs": [
    {
     "name": "stdout",
     "output_type": "stream",
     "text": [
      "The net amount in the bank after expenses is £197.27.\n",
      "You also have £262.16 in your savings account.\n",
      "You have £467.27 in your account right now.\n",
      "You can put £70 in your savings.\n",
      "This will leave a total of £332.16 in your savings account.\n",
      "And £397.27 left in your bank account.\n"
     ]
    }
   ],
   "source": [
    "bank_account = 0\n",
    "expenses = 0\n",
    "savings = 0\n",
    "\n",
    "# Work out the net amount after taking away expenses\n",
    "def net():\n",
    "    return bank_account - expenses\n",
    "\n",
    "x = net()\n",
    "\n",
    "\n",
    "\n",
    "print(\"The net amount in the bank after expenses is \" + \"£\" + (str(round(x,2))) + \".\")\n",
    "print(\"You also have \" + \"£\" + str(savings) + \" in your savings account\" + \".\")\n",
    "\n",
    "# If I do choose to put in savings\n",
    "def if_in_savings():\n",
    "    if x >= 500:\n",
    "        return put_in_savings(bank_account) + savings\n",
    "    if x <= 499:\n",
    "        return put_in_savings(bank_account) + savings\n",
    "    else:\n",
    "        return put_in_savings(bank_account) + savings\n",
    "\n",
    "\n",
    "\n",
    "# Put in savings function\n",
    "def put_in_savings(bank_account):\n",
    "    if x >= 500:\n",
    "        return round(bank_account *25 /100)\n",
    "    if x <= 499:\n",
    "        return round(bank_account *15 /100)\n",
    "\n",
    "z = if_in_savings()\n",
    "y = put_in_savings(bank_account)\n",
    "\n",
    "\n",
    "print(\"You have \" + \"£\" + str(bank_account) + \" in your account right now.\")\n",
    "print(\"You can put \" + \"£\" + str(y) + \" in your savings.\")\n",
    "print(\"This will leave a total of \" + \"£\" + str(z) + \" in your savings account.\")\n",
    "print(\"And \" + \"£\" + str(bank_account - y) + \" left in your bank account.\")\n"
   ]
  }
 ],
 "metadata": {
  "interpreter": {
   "hash": "2be5faf79681da6f2a61fdfdd5405d65d042280f7fba6178067603e3a2925119"
  },
  "kernelspec": {
   "display_name": "Python 3.10.1 64-bit",
   "language": "python",
   "name": "python3"
  },
  "language_info": {
   "codemirror_mode": {
    "name": "ipython",
    "version": 3
   },
   "file_extension": ".py",
   "mimetype": "text/x-python",
   "name": "python",
   "nbconvert_exporter": "python",
   "pygments_lexer": "ipython3",
   "version": "3.10.2"
  },
  "orig_nbformat": 4
 },
 "nbformat": 4,
 "nbformat_minor": 2
}
